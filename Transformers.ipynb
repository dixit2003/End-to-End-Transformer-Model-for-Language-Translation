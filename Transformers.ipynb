{
  "cells": [
    {
      "cell_type": "markdown",
      "metadata": {
        "id": "view-in-github",
        "colab_type": "text"
      },
      "source": [
        "<a href=\"https://colab.research.google.com/github/dixit2003/End-toEnd-Transformer-Model-for-Language-Translation/blob/main/Transformers.ipynb\" target=\"_parent\"><img src=\"https://colab.research.google.com/assets/colab-badge.svg\" alt=\"Open In Colab\"/></a>"
      ]
    },
    {
      "cell_type": "code",
      "execution_count": null,
      "metadata": {
        "colab": {
          "base_uri": "https://localhost:8080/"
        },
        "id": "4gGhqF8hTvAm",
        "outputId": "9303abb9-9611-4e32-8876-672bc2c27d4a"
      },
      "outputs": [
        {
          "name": "stderr",
          "output_type": "stream",
          "text": [
            "[nltk_data] Downloading package punkt to /root/nltk_data...\n",
            "[nltk_data]   Package punkt is already up-to-date!\n"
          ]
        }
      ],
      "source": [
        "import numpy as np\n",
        "import nltk\n",
        "nltk.download('punkt')\n",
        "from nltk.tokenize import word_tokenize\n",
        "\n",
        "import torch\n",
        "import torch.nn as nn\n",
        "import torch.nn.functional as F\n",
        "import math\n",
        "from tensorflow.keras.preprocessing.text import one_hot"
      ]
    },
    {
      "cell_type": "code",
      "execution_count": null,
      "metadata": {
        "id": "0ucVFULMEBHo"
      },
      "outputs": [],
      "source": [
        "config = {\n",
        "    'batch_size':  3,\n",
        "    'num_epochs': 1,\n",
        "    'lr': 10**-4,\n",
        "    'seq_len': 350,\n",
        "    'd_model': 512,\n",
        "    'lang_src': 'en',\n",
        "    'lang_tgt': 'it',\n",
        "    'model_folder': 'weights',\n",
        "    'model_baseename': 'tmodel_',\n",
        "    'preload': None,\n",
        "    'tokenizer_file': 'tokenizer_{}.json',\n",
        "    'experiment_name': 'runs/tmodel'\n",
        "}"
      ]
    },
    {
      "cell_type": "markdown",
      "metadata": {
        "id": "IdQr0M-lWCz2"
      },
      "source": [
        "## **Input Embeddings**"
      ]
    },
    {
      "cell_type": "code",
      "execution_count": null,
      "metadata": {
        "id": "RvnQ3hIyipAu"
      },
      "outputs": [],
      "source": [
        "class InputEmbedding(nn.Module):\n",
        "  def __init__(self, d_model: int, vocab_size: int):\n",
        "    super().__init__()\n",
        "    self.d_model = d_model\n",
        "    self.vocab_size = vocab_size\n",
        "    self.embedding = nn.Embedding(vocab_size, d_model)\n",
        "\n",
        "  def forward(self, x):\n",
        "    return self.embedding(x)"
      ]
    },
    {
      "cell_type": "markdown",
      "metadata": {
        "id": "ixJMyozXevw9"
      },
      "source": [
        "## **Positional Encoding**"
      ]
    },
    {
      "cell_type": "code",
      "execution_count": null,
      "metadata": {
        "id": "YaJKpBLivFTS"
      },
      "outputs": [],
      "source": [
        "class PositionalEncoding(nn.Module):\n",
        "    def __init__(self,  seq_length: int, d_model: int, dropout: float):\n",
        "        super().__init__()\n",
        "        self.seq_length = seq_length\n",
        "        self.d_model = d_model\n",
        "        self.dropout = nn.Dropout(dropout)\n",
        "\n",
        "    def forward(self, x):\n",
        "        even_idx = torch.arange(0, self.d_model, 2).float()\n",
        "        denominator = torch.pow(10000, even_idx / self.d_model)\n",
        "        position = torch.arange(self.seq_length).reshape(self.seq_length, 1)\n",
        "        even_pe = torch.sin(position / denominator)\n",
        "        odd_pe = torch.cos(position / denominator)\n",
        "        stacked = torch.stack([even_pe, odd_pe], dim=2)\n",
        "        pe = torch.flatten(stacked, start_dim=1, end_dim=2)\n",
        "        x += pe\n",
        "        return self.dropout(x)"
      ]
    },
    {
      "cell_type": "markdown",
      "metadata": {
        "id": "JAw5I8uYOw-s"
      },
      "source": [
        "## **Multi-Head Attention**"
      ]
    },
    {
      "cell_type": "code",
      "execution_count": null,
      "metadata": {
        "id": "UeInQlLO3Szh"
      },
      "outputs": [],
      "source": [
        "class MultiHeadAttention(nn.Module):\n",
        "  def __init__(self, d_model: int, heads: int, dropout: float):\n",
        "    super().__init__()\n",
        "    self.d_model = d_model\n",
        "    self.heads = heads\n",
        "    self.d_k = d_model // heads\n",
        "\n",
        "    self.w_q = nn.Linear(d_model, d_model)\n",
        "    self.w_k = nn.Linear(d_model, d_model)\n",
        "    self.w_v = nn.Linear(d_model, d_model)\n",
        "    self.w_o = nn.Linear(d_model, d_model)\n",
        "    self.dropout = nn.Dropout(dropout)\n",
        "\n",
        "  def attention(self, q: torch.Tensor, k: torch.Tensor, v: torch.Tensor, mask=None):\n",
        "    d_k = q.size(-1)\n",
        "    scores = torch.matmul(q, k.transpose(-2, -1)) / math.sqrt(d_k)\n",
        "\n",
        "    if mask is not None:\n",
        "      scores = scores.masked_fill(mask == 0, -1e9)\n",
        "\n",
        "    attention_weights = F.softmax(scores, dim=-1)\n",
        "\n",
        "    if self.dropout is not None:\n",
        "      attention_weights = self.dropout(attention_weights)\n",
        "\n",
        "    output = torch.matmul(attention_weights, v)\n",
        "    return output, attention_weights\n",
        "\n",
        "  def forward(self, q, k, v, mask=None):\n",
        "    batch_size = q.size(0)\n",
        "\n",
        "    query = self.w_q(q)\n",
        "    key = self.w_k(k)\n",
        "    value = self.w_v(v)\n",
        "\n",
        "    query = query.view(batch_size, -1, self.heads, self.d_k).transpose(1, 2)\n",
        "    key = key.view(batch_size, -1, self.heads, self.d_k).transpose(1, 2)\n",
        "    value = value.view(batch_size, -1, self.heads, self.d_k).transpose(1, 2)\n",
        "\n",
        "    attention_output, attention_weights = self.attention(query, key, value, mask)\n",
        "\n",
        "    attention_output = attention_output.transpose(1, 2).contiguous().view(batch_size, -1, self.heads * self.d_k)\n",
        "\n",
        "    output = self.w_o(attention_output)\n",
        "    return output, attention_weights"
      ]
    },
    {
      "cell_type": "markdown",
      "metadata": {
        "id": "AS61Rp9mi8oE"
      },
      "source": [
        "### **Add and Normalize**"
      ]
    },
    {
      "cell_type": "code",
      "execution_count": null,
      "metadata": {
        "id": "xXUEemE3i7ql"
      },
      "outputs": [],
      "source": [
        "class LayerNormalization(nn.Module):\n",
        "  def __init__(self, eps: float = 1e-6) -> None:\n",
        "    super().__init__()\n",
        "    self.eps = eps\n",
        "    self.alpha = nn.Parameter(torch.ones(1))\n",
        "    self.beta = nn.Parameter(torch.zeros(1))\n",
        "\n",
        "  def forward(self, x):\n",
        "    mean = x.mean(-1, keepdim=True)\n",
        "    std = x.std(-1, keepdim=True)\n",
        "    return self.alpha * (x - mean) / (std + self.eps) + self.beta"
      ]
    },
    {
      "cell_type": "markdown",
      "metadata": {
        "id": "WNPZbRCuT0eF"
      },
      "source": [
        "## **Feed Forward Neural Network**"
      ]
    },
    {
      "cell_type": "code",
      "execution_count": null,
      "metadata": {
        "id": "ybR7LuJoQ4mg"
      },
      "outputs": [],
      "source": [
        "class FeedForward(nn.Module):\n",
        "  def __init__(self, d_model: int, d_ff: int, dropout: float):\n",
        "    super().__init__()\n",
        "    self.linear1 = nn.Linear(d_model, d_ff)\n",
        "    self.linear2 = nn.Linear(d_ff, d_model)\n",
        "    self.dropout = nn.Dropout(dropout)\n",
        "\n",
        "  def forward(self, x):\n",
        "    return self.linear2(self.dropout(F.relu(self.linear1(x))))"
      ]
    },
    {
      "cell_type": "markdown",
      "metadata": {
        "id": "a9lSvqMwVziI"
      },
      "source": [
        "## **Residual/Skip Connection**"
      ]
    },
    {
      "cell_type": "code",
      "execution_count": null,
      "metadata": {
        "id": "xt81iOcQV4xM"
      },
      "outputs": [],
      "source": [
        "class ResidualConnection(nn.Module):\n",
        "  def __init__(self, dropout: float) -> None:\n",
        "    super().__init__()\n",
        "    self.norm = LayerNormalization()\n",
        "    self.dropout = nn.Dropout(dropout)\n",
        "\n",
        "  def forward(self, x, sublayer):\n",
        "    return x + self.dropout(sublayer(self.norm(x)))"
      ]
    },
    {
      "cell_type": "markdown",
      "metadata": {
        "id": "0EnS3HpmU3cJ"
      },
      "source": [
        "## **Encoder Block**"
      ]
    },
    {
      "cell_type": "code",
      "execution_count": null,
      "metadata": {
        "id": "MQ8LV6x3VbKQ"
      },
      "outputs": [],
      "source": [
        "class EncoderBlock(nn.Module):\n",
        "  def __init__(self, d_model: int, heads: int, d_ff: int, dropout: float):\n",
        "    super().__init__()\n",
        "    self.attention = MultiHeadAttention(d_model, heads, dropout)\n",
        "    self.feed_forward = FeedForward(d_model, d_ff, dropout)\n",
        "    self.residual_connection1 = ResidualConnection(dropout)\n",
        "    self.residual_connection2 = ResidualConnection(dropout)\n",
        "\n",
        "  def forward(self, x, mask):\n",
        "    x = self.residual_connection1(x, lambda x: self.attention(x, x, x, mask)[0])\n",
        "    x = self.residual_connection2(x, self.feed_forward)\n",
        "    return x"
      ]
    },
    {
      "cell_type": "code",
      "execution_count": null,
      "metadata": {
        "id": "trsBAFtRKMAO"
      },
      "outputs": [],
      "source": [
        "class Encoder(nn.Module):\n",
        "  def __init__(self, layers: nn.ModuleList) -> None:\n",
        "    super().__init__()\n",
        "    self.layers = layers\n",
        "    self.norm = LayerNormalization()\n",
        "\n",
        "  def forward(self, x, src_mask):\n",
        "    for layer in self.layers:\n",
        "      x = layer(x, src_mask)\n",
        "    return self.norm(x)"
      ]
    },
    {
      "cell_type": "code",
      "execution_count": null,
      "metadata": {
        "id": "jjfnQtXEKM8P"
      },
      "outputs": [],
      "source": [
        "encoder = Encoder(nn.ModuleList([EncoderBlock(512, 8, 2048, 0.1) for _ in range(6)]))"
      ]
    },
    {
      "cell_type": "markdown",
      "metadata": {
        "id": "gfRqgGTJNrrB"
      },
      "source": [
        "## **Decoder Block**"
      ]
    },
    {
      "cell_type": "code",
      "execution_count": null,
      "metadata": {
        "id": "lorUUMawNpII"
      },
      "outputs": [],
      "source": [
        "class DecoderBlock(nn.Module):\n",
        "  def __init__(self, d_model: int, heads: int, d_ff: int, dropout: float):\n",
        "    super().__init__()\n",
        "    self.attention1 = MultiHeadAttention(512, 8, 0.1)\n",
        "    self.attention2 = MultiHeadAttention(512, 8, 0.1)\n",
        "    self.feed_forward = FeedForward(512, 2048, 0.1)\n",
        "    self.residual_connection1 = ResidualConnection(dropout)\n",
        "    self.residual_connection2 = ResidualConnection(dropout)\n",
        "    self.residual_connection3 = ResidualConnection(dropout)\n",
        "\n",
        "  def forward(self, x, encoder_output, src_mask, tgt_mask):\n",
        "    attention1_output = self.attention1(x, x, x, tgt_mask)[0]\n",
        "    residual1_output = self.residual_connection1(x, lambda x: attention1_output)\n",
        "    attention2_output = self.attention2(residual1_output, encoder_output, encoder_output, src_mask)[0]\n",
        "    residual2_output = self.residual_connection2(residual1_output, lambda x: attention2_output)\n",
        "    residual3_output = self.residual_connection3(residual2_output, lambda x: self.feed_forward(x))\n",
        "    return residual3_output"
      ]
    },
    {
      "cell_type": "markdown",
      "metadata": {
        "id": "ATqhVfT4S-un"
      },
      "source": [
        "## **Decoder**"
      ]
    },
    {
      "cell_type": "code",
      "execution_count": null,
      "metadata": {
        "id": "Cx4q08ifSFSR"
      },
      "outputs": [],
      "source": [
        "class Decoder(nn.Module):\n",
        "  def __init__(self, layers: nn.ModuleList):\n",
        "    super().__init__()\n",
        "    self.layers = layers\n",
        "    self.norm = LayerNormalization()\n",
        "\n",
        "  def forward(self, x, encoder_output, src_mask, tgt_mask):\n",
        "    for layer in self.layers:\n",
        "      x = layer(x, encoder_output, src_mask, tgt_mask)\n",
        "    return self.norm(x)"
      ]
    },
    {
      "cell_type": "markdown",
      "metadata": {
        "id": "TW3vi_vdTq0i"
      },
      "source": [
        "## **Projection Layer**"
      ]
    },
    {
      "cell_type": "code",
      "execution_count": null,
      "metadata": {
        "id": "JhR6CZwcTtlV"
      },
      "outputs": [],
      "source": [
        "class ProjectionLayer(nn.Module):\n",
        "  def __init__(self, d_model: int, vocab_size: int) -> None:\n",
        "    super().__init__()\n",
        "    self.proj = nn.Linear(d_model, vocab_size)\n",
        "\n",
        "  def forward(self, x):\n",
        "    return F.softmax(self.proj(x), dim=-1)"
      ]
    },
    {
      "cell_type": "markdown",
      "metadata": {
        "id": "vQXhTd9LTl-u"
      },
      "source": [
        "## **Transformer Block**"
      ]
    },
    {
      "cell_type": "code",
      "execution_count": null,
      "metadata": {
        "id": "O708_ujrTBdz"
      },
      "outputs": [],
      "source": [
        "class TransformerBlock(nn.Module):\n",
        "  def __init__(self, encoder: EncoderBlock, decoder: DecoderBlock, src_embedding: InputEmbedding, tgt_embedding: InputEmbedding, src_pos: PositionalEncoding, tgt_pos: PositionalEncoding, proj: ProjectionLayer):\n",
        "    super().__init__()\n",
        "    self.encoder = encoder\n",
        "    self.decoder = decoder\n",
        "    self.src_embedding = src_embedding\n",
        "    self.tgt_embedding = tgt_embedding\n",
        "    self.src_pos = src_pos\n",
        "    self.tgt_pos = tgt_pos\n",
        "    self.proj = proj\n",
        "\n",
        "  def encode(self, src, src_mask):\n",
        "    src = self.src_embedding(src)\n",
        "    src = self.src_pos(src)\n",
        "    return self.encoder(src, src_mask)\n",
        "  def decode(self, tgt, encoder_output, src_mask, tgt_mask):\n",
        "    tgt = self.tgt_embedding(tgt.long())\n",
        "    tgt = self.tgt_pos(tgt)\n",
        "    return self.decoder(tgt, encoder_output, src_mask, tgt_mask)\n",
        "  def project(self, x):\n",
        "    return self.proj(x)"
      ]
    },
    {
      "cell_type": "markdown",
      "metadata": {
        "id": "YWDvyNzuZpjw"
      },
      "source": [
        "# **Transformer**"
      ]
    },
    {
      "cell_type": "code",
      "execution_count": null,
      "metadata": {
        "id": "0LBY1r7dZtKe"
      },
      "outputs": [],
      "source": [
        "def build_transformer(src_vocab_size: int, tgt_vocab_size: int, src_seq_len: int,\n",
        "                     target_seq_len: int, d_model:int = 512, N: int = 6, d_ff: int = 2048, n_heads: int = 8, dropout: int = 0.1):\n",
        "  src_embedding = InputEmbedding(d_model, src_vocab_size)\n",
        "  tgt_embedding = InputEmbedding(d_model, tgt_vocab_size)\n",
        "\n",
        "  src_pos = PositionalEncoding(src_seq_len, d_model, dropout)\n",
        "  tgt_pos = PositionalEncoding(target_seq_len, d_model, dropout)\n",
        "\n",
        "  proj = ProjectionLayer(d_model, tgt_vocab_size)\n",
        "\n",
        "  encoder = EncoderBlock(d_model, n_heads, d_ff, dropout)\n",
        "  decoder = DecoderBlock(d_model, n_heads, d_ff, dropout)\n",
        "\n",
        "  encoder = Encoder(nn.ModuleList([encoder for _ in range(N)]))\n",
        "  decoder = Decoder(nn.ModuleList([decoder for _ in range(N)]))\n",
        "\n",
        "  transformer = TransformerBlock(encoder, decoder, src_embedding, tgt_embedding, src_pos, tgt_pos, proj)\n",
        "  return transformer"
      ]
    },
    {
      "cell_type": "code",
      "execution_count": null,
      "metadata": {
        "colab": {
          "base_uri": "https://localhost:8080/"
        },
        "collapsed": true,
        "id": "bGbFoNP8cJ4-",
        "outputId": "debb3817-b394-442d-f1cf-4290d35fecfa"
      },
      "outputs": [
        {
          "data": {
            "text/plain": [
              "TransformerBlock(\n",
              "  (encoder): Encoder(\n",
              "    (layers): ModuleList(\n",
              "      (0-5): 6 x EncoderBlock(\n",
              "        (attention): MultiHeadAttention(\n",
              "          (w_q): Linear(in_features=512, out_features=512, bias=True)\n",
              "          (w_k): Linear(in_features=512, out_features=512, bias=True)\n",
              "          (w_v): Linear(in_features=512, out_features=512, bias=True)\n",
              "          (w_o): Linear(in_features=512, out_features=512, bias=True)\n",
              "          (dropout): Dropout(p=0.1, inplace=False)\n",
              "        )\n",
              "        (feed_forward): FeedForward(\n",
              "          (linear1): Linear(in_features=512, out_features=2048, bias=True)\n",
              "          (linear2): Linear(in_features=2048, out_features=512, bias=True)\n",
              "          (dropout): Dropout(p=0.1, inplace=False)\n",
              "        )\n",
              "        (residual_connection1): ResidualConnection(\n",
              "          (norm): LayerNormalization()\n",
              "          (dropout): Dropout(p=0.1, inplace=False)\n",
              "        )\n",
              "        (residual_connection2): ResidualConnection(\n",
              "          (norm): LayerNormalization()\n",
              "          (dropout): Dropout(p=0.1, inplace=False)\n",
              "        )\n",
              "      )\n",
              "    )\n",
              "    (norm): LayerNormalization()\n",
              "  )\n",
              "  (decoder): Decoder(\n",
              "    (layers): ModuleList(\n",
              "      (0-5): 6 x DecoderBlock(\n",
              "        (attention1): MultiHeadAttention(\n",
              "          (w_q): Linear(in_features=512, out_features=512, bias=True)\n",
              "          (w_k): Linear(in_features=512, out_features=512, bias=True)\n",
              "          (w_v): Linear(in_features=512, out_features=512, bias=True)\n",
              "          (w_o): Linear(in_features=512, out_features=512, bias=True)\n",
              "          (dropout): Dropout(p=0.1, inplace=False)\n",
              "        )\n",
              "        (attention2): MultiHeadAttention(\n",
              "          (w_q): Linear(in_features=512, out_features=512, bias=True)\n",
              "          (w_k): Linear(in_features=512, out_features=512, bias=True)\n",
              "          (w_v): Linear(in_features=512, out_features=512, bias=True)\n",
              "          (w_o): Linear(in_features=512, out_features=512, bias=True)\n",
              "          (dropout): Dropout(p=0.1, inplace=False)\n",
              "        )\n",
              "        (feed_forward): FeedForward(\n",
              "          (linear1): Linear(in_features=512, out_features=2048, bias=True)\n",
              "          (linear2): Linear(in_features=2048, out_features=512, bias=True)\n",
              "          (dropout): Dropout(p=0.1, inplace=False)\n",
              "        )\n",
              "        (residual_connection1): ResidualConnection(\n",
              "          (norm): LayerNormalization()\n",
              "          (dropout): Dropout(p=0.1, inplace=False)\n",
              "        )\n",
              "        (residual_connection2): ResidualConnection(\n",
              "          (norm): LayerNormalization()\n",
              "          (dropout): Dropout(p=0.1, inplace=False)\n",
              "        )\n",
              "        (residual_connection3): ResidualConnection(\n",
              "          (norm): LayerNormalization()\n",
              "          (dropout): Dropout(p=0.1, inplace=False)\n",
              "        )\n",
              "      )\n",
              "    )\n",
              "    (norm): LayerNormalization()\n",
              "  )\n",
              "  (src_embedding): InputEmbedding(\n",
              "    (embedding): Embedding(1000, 512)\n",
              "  )\n",
              "  (tgt_embedding): InputEmbedding(\n",
              "    (embedding): Embedding(1000, 512)\n",
              "  )\n",
              "  (src_pos): PositionalEncoding(\n",
              "    (dropout): Dropout(p=0.1, inplace=False)\n",
              "  )\n",
              "  (tgt_pos): PositionalEncoding(\n",
              "    (dropout): Dropout(p=0.1, inplace=False)\n",
              "  )\n",
              "  (proj): ProjectionLayer(\n",
              "    (proj): Linear(in_features=512, out_features=1000, bias=True)\n",
              "  )\n",
              ")"
            ]
          },
          "execution_count": 17,
          "metadata": {},
          "output_type": "execute_result"
        }
      ],
      "source": [
        "build_transformer(1000, 1000, 4, 3)"
      ]
    },
    {
      "cell_type": "markdown",
      "metadata": {
        "id": "etow42dUe8sw"
      },
      "source": [
        "# **Training Process**"
      ]
    },
    {
      "cell_type": "code",
      "execution_count": null,
      "metadata": {
        "colab": {
          "base_uri": "https://localhost:8080/"
        },
        "id": "myKdEKZ56q3x",
        "outputId": "38a3b8f7-e48b-4db6-b992-829abbc39f6b"
      },
      "outputs": [
        {
          "name": "stdout",
          "output_type": "stream",
          "text": [
            "Requirement already satisfied: datasets in /usr/local/lib/python3.10/dist-packages (2.20.0)\n",
            "Requirement already satisfied: filelock in /usr/local/lib/python3.10/dist-packages (from datasets) (3.15.3)\n",
            "Requirement already satisfied: numpy>=1.17 in /usr/local/lib/python3.10/dist-packages (from datasets) (1.25.2)\n",
            "Requirement already satisfied: pyarrow>=15.0.0 in /usr/local/lib/python3.10/dist-packages (from datasets) (16.1.0)\n",
            "Requirement already satisfied: pyarrow-hotfix in /usr/local/lib/python3.10/dist-packages (from datasets) (0.6)\n",
            "Requirement already satisfied: dill<0.3.9,>=0.3.0 in /usr/local/lib/python3.10/dist-packages (from datasets) (0.3.8)\n",
            "Requirement already satisfied: pandas in /usr/local/lib/python3.10/dist-packages (from datasets) (2.0.3)\n",
            "Requirement already satisfied: requests>=2.32.2 in /usr/local/lib/python3.10/dist-packages (from datasets) (2.32.3)\n",
            "Requirement already satisfied: tqdm>=4.66.3 in /usr/local/lib/python3.10/dist-packages (from datasets) (4.66.4)\n",
            "Requirement already satisfied: xxhash in /usr/local/lib/python3.10/dist-packages (from datasets) (3.4.1)\n",
            "Requirement already satisfied: multiprocess in /usr/local/lib/python3.10/dist-packages (from datasets) (0.70.16)\n",
            "Requirement already satisfied: fsspec[http]<=2024.5.0,>=2023.1.0 in /usr/local/lib/python3.10/dist-packages (from datasets) (2023.6.0)\n",
            "Requirement already satisfied: aiohttp in /usr/local/lib/python3.10/dist-packages (from datasets) (3.9.5)\n",
            "Requirement already satisfied: huggingface-hub>=0.21.2 in /usr/local/lib/python3.10/dist-packages (from datasets) (0.23.4)\n",
            "Requirement already satisfied: packaging in /usr/local/lib/python3.10/dist-packages (from datasets) (24.1)\n",
            "Requirement already satisfied: pyyaml>=5.1 in /usr/local/lib/python3.10/dist-packages (from datasets) (6.0.1)\n",
            "Requirement already satisfied: aiosignal>=1.1.2 in /usr/local/lib/python3.10/dist-packages (from aiohttp->datasets) (1.3.1)\n",
            "Requirement already satisfied: attrs>=17.3.0 in /usr/local/lib/python3.10/dist-packages (from aiohttp->datasets) (23.2.0)\n",
            "Requirement already satisfied: frozenlist>=1.1.1 in /usr/local/lib/python3.10/dist-packages (from aiohttp->datasets) (1.4.1)\n",
            "Requirement already satisfied: multidict<7.0,>=4.5 in /usr/local/lib/python3.10/dist-packages (from aiohttp->datasets) (6.0.5)\n",
            "Requirement already satisfied: yarl<2.0,>=1.0 in /usr/local/lib/python3.10/dist-packages (from aiohttp->datasets) (1.9.4)\n",
            "Requirement already satisfied: async-timeout<5.0,>=4.0 in /usr/local/lib/python3.10/dist-packages (from aiohttp->datasets) (4.0.3)\n",
            "Requirement already satisfied: typing-extensions>=3.7.4.3 in /usr/local/lib/python3.10/dist-packages (from huggingface-hub>=0.21.2->datasets) (4.12.2)\n",
            "Requirement already satisfied: charset-normalizer<4,>=2 in /usr/local/lib/python3.10/dist-packages (from requests>=2.32.2->datasets) (3.3.2)\n",
            "Requirement already satisfied: idna<4,>=2.5 in /usr/local/lib/python3.10/dist-packages (from requests>=2.32.2->datasets) (3.7)\n",
            "Requirement already satisfied: urllib3<3,>=1.21.1 in /usr/local/lib/python3.10/dist-packages (from requests>=2.32.2->datasets) (2.0.7)\n",
            "Requirement already satisfied: certifi>=2017.4.17 in /usr/local/lib/python3.10/dist-packages (from requests>=2.32.2->datasets) (2024.6.2)\n",
            "Requirement already satisfied: python-dateutil>=2.8.2 in /usr/local/lib/python3.10/dist-packages (from pandas->datasets) (2.8.2)\n",
            "Requirement already satisfied: pytz>=2020.1 in /usr/local/lib/python3.10/dist-packages (from pandas->datasets) (2023.4)\n",
            "Requirement already satisfied: tzdata>=2022.1 in /usr/local/lib/python3.10/dist-packages (from pandas->datasets) (2024.1)\n",
            "Requirement already satisfied: six>=1.5 in /usr/local/lib/python3.10/dist-packages (from python-dateutil>=2.8.2->pandas->datasets) (1.16.0)\n"
          ]
        }
      ],
      "source": [
        "!pip install datasets"
      ]
    },
    {
      "cell_type": "code",
      "execution_count": null,
      "metadata": {
        "id": "3F8LqaqCe_mJ"
      },
      "outputs": [],
      "source": [
        "from torch.utils.data import Dataset, DataLoader, random_split\n",
        "\n",
        "from datasets import load_dataset\n",
        "from tokenizers import Tokenizer\n",
        "from tokenizers.models import WordLevel\n",
        "from tokenizers.trainers import WordLevelTrainer\n",
        "from tokenizers.pre_tokenizers import Whitespace\n",
        "\n",
        "from pathlib import Path"
      ]
    },
    {
      "cell_type": "code",
      "execution_count": null,
      "metadata": {
        "id": "l61FEiM2fFJS"
      },
      "outputs": [],
      "source": [
        "def get_all_sentences(ds, lang):\n",
        "  for item in ds:\n",
        "    yield item['translation'][lang]"
      ]
    },
    {
      "cell_type": "code",
      "execution_count": null,
      "metadata": {
        "id": "X7lr6BhOfHRs"
      },
      "outputs": [],
      "source": [
        "def get_or_build_tokenizer(config, ds, lang):\n",
        "  tokenizer_path = Path(config['tokenizer_file'].format(lang))\n",
        "  if not tokenizer_path.exists():\n",
        "    tokenizer = Tokenizer(WordLevel(unk_token=\"[UNK]\"))\n",
        "    tokenizer.pre_tokenizer = Whitespace()\n",
        "    trainer = WordLevelTrainer(special_tokens=[\"[UNK]\", \"[PAD]\", \"[BOS]\", \"[EOS]\"], min_frequency=2)\n",
        "    tokenizer.train_from_iterator(get_all_sentences(ds, lang), trainer=trainer)\n",
        "    tokenizer.save(str(tokenizer_path))\n",
        "  else:\n",
        "    tokenizer = Tokenizer.from_file(str(tokenizer_path))\n",
        "  return tokenizer"
      ]
    },
    {
      "cell_type": "code",
      "execution_count": null,
      "metadata": {
        "id": "FDbNEmhafKCP"
      },
      "outputs": [],
      "source": [
        "def get_ds(config):\n",
        "  ds_raw = load_dataset('opus_books', f'{config[\"lang_src\"]}-{config[\"lang_tgt\"]}', split='train')\n",
        "  # Build Tokenizer\n",
        "  tokenizer_src = get_or_build_tokenizer(config, ds_raw, config['lang_src'])\n",
        "  tokenizer_tgt = get_or_build_tokenizer(config, ds_raw, config['lang_tgt'])\n",
        "  # Split Dataset\n",
        "  train_ds_size = int(0.9 * len(ds_raw))\n",
        "  val_ds_size = len(ds_raw) - train_ds_size\n",
        "  train_ds_raw, val_ds_raw = random_split(ds_raw, [train_ds_size, val_ds_size])\n",
        "\n",
        "  # Create Dataset\n",
        "  train_ds = BilingualDataset(train_ds_raw, tokenizer_src, tokenizer_tgt, config['lang_src'], config['lang_tgt'], config['seq_len'])\n",
        "  val_ds = BilingualDataset(val_ds_raw, tokenizer_src, tokenizer_tgt, config['lang_src'], config['lang_tgt'], config['seq_len'])\n",
        "\n",
        "  max_len_src = 0\n",
        "  max_len_tgt = 0\n",
        "\n",
        "  for item in ds_raw:\n",
        "    src_ids = tokenizer_src.encode(item['translation'][config['lang_src']]).ids\n",
        "    tgt_ids = tokenizer_tgt.encode(item['translation'][config['lang_tgt']]).ids\n",
        "    max_len_src = max(max_len_src, len(src_ids))\n",
        "    max_len_tgt = max(max_len_tgt, len(tgt_ids))\n",
        "\n",
        "  print(f'Max length src: {max_len_src}')\n",
        "  print(f'Max length tgt: {max_len_tgt}')\n",
        "\n",
        "  train_dataloader = DataLoader(train_ds, batch_size=config['batch_size'], shuffle=True)\n",
        "  val_dataloader = DataLoader(val_ds, batch_size=1, shuffle=True)\n",
        "\n",
        "  return train_dataloader, val_dataloader, tokenizer_src, tokenizer_tgt"
      ]
    },
    {
      "cell_type": "markdown",
      "metadata": {
        "id": "0sdQBa2jfQWv"
      },
      "source": [
        "## **Dataset**"
      ]
    },
    {
      "cell_type": "code",
      "execution_count": null,
      "metadata": {
        "id": "3y5JDqdLfMpK"
      },
      "outputs": [],
      "source": [
        "class BilingualDataset(Dataset):\n",
        "  def mask(size):\n",
        "    mask = torch.triu(torch.ones(1, size, size), diagonal=1).type(torch.int)\n",
        "    return mask == 0\n",
        "\n",
        "  def __init__(self, ds, tokenizer_src, tokenizer_tgt, src_lang, tgt_lang, seq_len):\n",
        "    self.ds = ds\n",
        "    self.tokenizer_src = tokenizer_src\n",
        "    self.tokenizer_tgt = tokenizer_tgt\n",
        "    self.src_lang = src_lang\n",
        "    self.tgt_lang = tgt_lang\n",
        "    self.seq_len = seq_len\n",
        "\n",
        "    self.bos_token = torch.tensor([tokenizer_src.token_to_id('[BOS]')], dtype=torch.int64)\n",
        "    self.eos_token = torch.tensor([tokenizer_src.token_to_id('[EOS]')], dtype=torch.int64)\n",
        "    self.pad_token = torch.tensor([tokenizer_src.token_to_id('[PAD]')], dtype=torch.int64)\n",
        "\n",
        "  def __len__(self):\n",
        "    return len(self.ds)\n",
        "\n",
        "  def __getitem__(self, idx):\n",
        "    src_target_pair = self.ds[idx]\n",
        "    src = src_target_pair['translation'][self.src_lang]\n",
        "    tgt = src_target_pair['translation'][self.tgt_lang]\n",
        "\n",
        "    enc_input_tokens = self.tokenizer_src.encode(src).ids\n",
        "    dec_input_tokens = self.tokenizer_tgt.encode(tgt).ids\n",
        "\n",
        "    enc_num_padding_tokens = self.seq_len - len(enc_input_tokens) - 2\n",
        "    dec_num_padding_tokens = self.seq_len - len(dec_input_tokens) - 1\n",
        "\n",
        "    if enc_num_padding_tokens < 0 or dec_num_padding_tokens < 0:\n",
        "      raise ValueError(\"sentence length exceeds maximum sequence length\")\n",
        "\n",
        "    encoder_input = torch.cat([\n",
        "        self.bos_token,\n",
        "        torch.tensor(enc_input_tokens, dtype=torch.int64),\n",
        "        self.eos_token,\n",
        "        torch.tensor([self.pad_token] * enc_num_padding_tokens, dtype=torch.int64)\n",
        "    ])\n",
        "\n",
        "    decoder_input = torch.cat(\n",
        "        [\n",
        "            self.bos_token,\n",
        "            torch.tensor(dec_input_tokens, dtype=torch.int64),\n",
        "            torch.tensor([self.pad_token] * dec_num_padding_tokens, dtype=torch.int64)\n",
        "        ]\n",
        "    )\n",
        "\n",
        "    label = torch.cat([\n",
        "        torch.tensor(dec_input_tokens, dtype=torch.int64),\n",
        "        self.eos_token,\n",
        "        torch.tensor([self.pad_token] * dec_num_padding_tokens, dtype=torch.int64)\n",
        "    ])\n",
        "\n",
        "    assert len(encoder_input) == self.seq_len\n",
        "    assert len(decoder_input) == self.seq_len\n",
        "    assert len(label) == self.seq_len\n",
        "\n",
        "    return {\"Encoder_Input\": encoder_input,\n",
        "            \"Decoder_Input\": decoder_input,\n",
        "            \"Encoder_mask\": (encoder_input != self.pad_token).unsqueeze(0).unsqueeze(0).int(),\n",
        "            \"Decoder_mask\": (decoder_input != self.pad_token).unsqueeze(0).unsqueeze(0).int() & BilingualDataset.mask(decoder_input.size(0)),\n",
        "            \"label\": label,\n",
        "            \"src_text\": src,\n",
        "            \"tgt_text\": tgt}"
      ]
    },
    {
      "cell_type": "markdown",
      "metadata": {
        "id": "XxnrbBZW5xoJ"
      },
      "source": [
        "## **Build Model**"
      ]
    },
    {
      "cell_type": "code",
      "execution_count": null,
      "metadata": {
        "id": "Pai_w_lj52fK"
      },
      "outputs": [],
      "source": [
        "def get_model(config, vocab_src_len, vocab_tgt_len):\n",
        "  model = build_transformer(vocab_src_len, vocab_tgt_len, config['seq_len'], config['seq_len'], config['d_model'])\n",
        "  return model"
      ]
    },
    {
      "cell_type": "code",
      "execution_count": null,
      "metadata": {
        "id": "Ee_15zYE76EF"
      },
      "outputs": [],
      "source": [
        "def get_weights_file_path(config, epochs: str):\n",
        "  model_folder = config['model_folder']\n",
        "  model_basename = config['model_basename']\n",
        "  model_filename = f'{model_basename}{epochs}.pt'\n",
        "  return str(Path('.') / model_folder / model_filename)"
      ]
    },
    {
      "cell_type": "code",
      "execution_count": null,
      "metadata": {
        "colab": {
          "background_save": true
        },
        "id": "ADDYDwba8yp2"
      },
      "outputs": [],
      "source": [
        "from torch.utils.tensorboard import SummaryWriter\n",
        "import tqdm\n",
        "\n",
        "def train_model(config):\n",
        "  train_dataloader, val_dataloader, tokenizer_src, tokenizer_tgt = get_ds(config)\n",
        "  model = get_model(config, tokenizer_src.get_vocab_size(), tokenizer_tgt.get_vocab_size())\n",
        "\n",
        "  writer = SummaryWriter(config['experiment_name'])\n",
        "  optimizer = torch.optim.Adam(model.parameters(), lr=config['lr'])\n",
        "\n",
        "  initial_epoch = 0\n",
        "  global_step = 0\n",
        "  if config['preload']:\n",
        "    model_filename = get_weights_file_path(config, config['preload'])\n",
        "    print(f'Preloading model {model_filename}')\n",
        "    state = torch.load(model_filename)\n",
        "\n",
        "    initial_epoch = state['epoch'] + 1\n",
        "    optimizer.load_state_dict(state['optimizer'])\n",
        "    global_step = state['global_step']\n",
        "\n",
        "  loss_fn = nn.CrossEntropyLoss(ignore_index=tokenizer_src.token_to_id('[PAD]'), label_smoothing=0.1)\n",
        "\n",
        "  for epoch in range(initial_epoch, config['num_epochs']):\n",
        "    model.train()\n",
        "    batch_iterator = tqdm.tqdm(train_dataloader, desc=f'Processing epoch {epoch: 02d}')\n",
        "\n",
        "    for batch in batch_iterator:\n",
        "      encoder_input = batch['Encoder_Input'].long()\n",
        "      decoder_input = batch['Decoder_Input'].long()\n",
        "      encoder_mask = batch['Encoder_mask'].long()\n",
        "      decoder_mask = batch['Decoder_mask'].long()\n",
        "      label = batch['label'].long()\n",
        "\n",
        "      encoder_output = model.encode(encoder_input, encoder_mask)\n",
        "      decoder_output = model.decode(decoder_input, encoder_output, encoder_mask, decoder_mask)\n",
        "      proj_out = model.project(decoder_output)\n",
        "\n",
        "      label = batch['label']\n",
        "      loss = loss_fn(proj_out.view(-1, tokenizer_tgt.get_vocab_size()), label.view(-1))\n",
        "      batch_iterator.set_postfix({f'loss': f'{loss.item():6.3f}'})\n",
        "\n",
        "      writer.add_scalar('train loss', loss.item(), global_step)\n",
        "      writer.flush\n",
        "\n",
        "      loss.backward()\n",
        "\n",
        "      optimizer.step()\n",
        "      optimizer.zero_grad()\n",
        "\n",
        "      global_step += 1\n",
        "\n",
        "    model_filename = get_weights_file_path(config, f'{epoch: 02d}')\n",
        "    torch.save(\n",
        "        {\n",
        "            'epoch': epoch,\n",
        "            'model_state_dict': model.state_dict(),\n",
        "            'optimizer': optimizer.state_dict(),\n",
        "            'global_step': global_step\n",
        "        },\n",
        "        model_filename\n",
        "    )\n",
        "\n",
        "train_model(config)\n"
      ]
    }
  ],
  "metadata": {
    "accelerator": "TPU",
    "colab": {
      "gpuType": "V28",
      "provenance": [],
      "authorship_tag": "ABX9TyOHGZe9APnuRFf5WSMN1fao",
      "include_colab_link": true
    },
    "kernelspec": {
      "display_name": "Python 3",
      "name": "python3"
    },
    "language_info": {
      "name": "python"
    }
  },
  "nbformat": 4,
  "nbformat_minor": 0
}